{
 "cells": [
  {
   "cell_type": "markdown",
   "metadata": {},
   "source": [
    "# Set- Up"
   ]
  },
  {
   "cell_type": "code",
   "execution_count": 2,
   "metadata": {
    "collapsed": false
   },
   "outputs": [],
   "source": [
    "import seaborn as sns\n",
    "import numpy as np\n",
    "import pandas as pd\n",
    "import collections # For frequency counting\n",
    "import findspark\n",
    "findspark.init(\"/home/shahan/Downloads/spark2\")\n",
    "\n",
    "import pyspark\n",
    "from pyspark.sql import DataFrameNaFunctions\n",
    "from pyspark.sql.functions import lit # Create columns of *literal* value\n",
    "from pyspark.sql.functions import col # Returns a Column based on the \n",
    "                                      # given column name\n",
    "from pyspark.ml.feature import StringIndexer #label encoding\n",
    "from pyspark.ml import Pipeline\n",
    "\n",
    "sc = pyspark.SparkContext(appName=\"helloworld\")"
   ]
  },
  {
   "cell_type": "markdown",
   "metadata": {},
   "source": [
    "# Spark Session"
   ]
  },
  {
   "cell_type": "code",
   "execution_count": 4,
   "metadata": {
    "collapsed": true
   },
   "outputs": [],
   "source": [
    "from pyspark.sql import SparkSession\n",
    "\n",
    "spark = SparkSession \\\n",
    "    .builder \\\n",
    "    .appName(\"Python Spark SQL basic example\") \\\n",
    "    .config(\"spark.some.config.option\", \"some-value\") \\\n",
    "    .getOrCreate()"
   ]
  },
  {
   "cell_type": "markdown",
   "metadata": {},
   "source": [
    "# Data"
   ]
  },
  {
   "cell_type": "code",
   "execution_count": 210,
   "metadata": {
    "collapsed": false
   },
   "outputs": [],
   "source": [
    "trainDF = spark.read.csv(\"/home/shahan/Documents/Spark/Data/train.csv\", header=\"true\")\n",
    "testDF = spark.read.csv(\"/home/shahan/Documents/Spark/Data/test.csv\", header=\"true\")"
   ]
  },
  {
   "cell_type": "markdown",
   "metadata": {},
   "source": [
    "## Combine train and Test Data"
   ]
  },
  {
   "cell_type": "code",
   "execution_count": 211,
   "metadata": {
    "collapsed": true
   },
   "outputs": [],
   "source": [
    "## Add Survived column to test, and dataset name as a column\n",
    "trainDF = trainDF.withColumn('Mark', lit('train'))\n",
    "testDF = (testDF.withColumn('Survived',lit(0))\n",
    "                .withColumn('Mark', lit('test')))\n",
    "testDF = testDF[trainDF.columns]\n",
    "\n",
    "## Append Test data to Train data\n",
    "df = trainDF.unionAll(testDF)"
   ]
  },
  {
   "cell_type": "code",
   "execution_count": 212,
   "metadata": {
    "collapsed": true
   },
   "outputs": [],
   "source": [
    "df.createOrReplaceTempView(\"train\")"
   ]
  },
  {
   "cell_type": "markdown",
   "metadata": {},
   "source": [
    "### Convert variables to numeric"
   ]
  },
  {
   "cell_type": "code",
   "execution_count": 213,
   "metadata": {
    "collapsed": false,
    "scrolled": true
   },
   "outputs": [
    {
     "name": "stdout",
     "output_type": "stream",
     "text": [
      "root\n",
      " |-- PassengerId: string (nullable = true)\n",
      " |-- Survived: string (nullable = true)\n",
      " |-- Pclass: string (nullable = true)\n",
      " |-- Name: string (nullable = true)\n",
      " |-- Sex: string (nullable = true)\n",
      " |-- Age: string (nullable = true)\n",
      " |-- SibSp: string (nullable = true)\n",
      " |-- Parch: string (nullable = true)\n",
      " |-- Ticket: string (nullable = true)\n",
      " |-- Fare: string (nullable = true)\n",
      " |-- Cabin: string (nullable = true)\n",
      " |-- Embarked: string (nullable = true)\n",
      " |-- Mark: string (nullable = false)\n",
      "\n"
     ]
    }
   ],
   "source": [
    "df.printSchema()"
   ]
  },
  {
   "cell_type": "markdown",
   "metadata": {},
   "source": [
    "Variables that should be numeric are:\n",
    "\n",
    "PassengerId: Integer\n",
    "Pclass: Integer\n",
    "SibSp: Integer\n",
    "Parch: Integer\n",
    "Survived: Integer\n",
    "Age: Float\n",
    "Fare: Float\n"
   ]
  },
  {
   "cell_type": "code",
   "execution_count": 214,
   "metadata": {
    "collapsed": true
   },
   "outputs": [],
   "source": [
    "# Function to convert the data to any type\n",
    "\n",
    "def to_anytype(df, colnames, typename):\n",
    "    for colname in colnames:\n",
    "        df = df.withColumn(\"tmp\", df[colname].cast(typename)) \\\n",
    "        .drop(colname) \\\n",
    "        .withColumnRenamed(\"tmp\", colname)\n",
    "    return(df)\n"
   ]
  },
  {
   "cell_type": "code",
   "execution_count": 215,
   "metadata": {
    "collapsed": true
   },
   "outputs": [],
   "source": [
    "#Changing the types as follows\n",
    "intCols = ['PassengerId', 'Pclass', 'SibSp', 'Parch', 'Survived']\n",
    "floatCols = ['Age', 'Fare']\n",
    "\n",
    "df = to_anytype(df, intCols, \"integer\")\n",
    "df = to_anytype(df, floatCols, \"float\")"
   ]
  },
  {
   "cell_type": "code",
   "execution_count": 216,
   "metadata": {
    "collapsed": false
   },
   "outputs": [
    {
     "name": "stdout",
     "output_type": "stream",
     "text": [
      "root\n",
      " |-- Name: string (nullable = true)\n",
      " |-- Sex: string (nullable = true)\n",
      " |-- Ticket: string (nullable = true)\n",
      " |-- Cabin: string (nullable = true)\n",
      " |-- Embarked: string (nullable = true)\n",
      " |-- Mark: string (nullable = false)\n",
      " |-- PassengerId: integer (nullable = true)\n",
      " |-- Pclass: integer (nullable = true)\n",
      " |-- SibSp: integer (nullable = true)\n",
      " |-- Parch: integer (nullable = true)\n",
      " |-- Survived: integer (nullable = true)\n",
      " |-- Age: float (nullable = true)\n",
      " |-- Fare: float (nullable = true)\n",
      "\n"
     ]
    }
   ],
   "source": [
    "#checking\n",
    "df.printSchema()"
   ]
  },
  {
   "cell_type": "markdown",
   "metadata": {},
   "source": [
    "# Histogram"
   ]
  },
  {
   "cell_type": "code",
   "execution_count": 217,
   "metadata": {
    "collapsed": false
   },
   "outputs": [
    {
     "name": "stdout",
     "output_type": "stream",
     "text": [
      "+----+-----+\n",
      "| age|count|\n",
      "+----+-----+\n",
      "|    |  263|\n",
      "|0.17|    1|\n",
      "|0.33|    1|\n",
      "|0.42|    1|\n",
      "|0.67|    1|\n",
      "|0.75|    3|\n",
      "|0.83|    3|\n",
      "|0.92|    2|\n",
      "|   1|   10|\n",
      "|  10|    4|\n",
      "|  11|    4|\n",
      "|11.5|    1|\n",
      "|  12|    3|\n",
      "|  13|    5|\n",
      "|  14|    8|\n",
      "|14.5|    2|\n",
      "|  15|    6|\n",
      "|  16|   19|\n",
      "|  17|   20|\n",
      "|  18|   39|\n",
      "|18.5|    3|\n",
      "|  19|   29|\n",
      "|   2|   12|\n",
      "|  20|   23|\n",
      "|20.5|    1|\n",
      "|  21|   41|\n",
      "|  22|   43|\n",
      "|22.5|    1|\n",
      "|  23|   26|\n",
      "|23.5|    1|\n",
      "|  24|   47|\n",
      "|24.5|    1|\n",
      "|  25|   34|\n",
      "|  26|   30|\n",
      "|26.5|    1|\n",
      "|  27|   30|\n",
      "|  28|   32|\n",
      "|28.5|    3|\n",
      "|  29|   30|\n",
      "|   3|    7|\n",
      "|  30|   40|\n",
      "|30.5|    2|\n",
      "|  31|   23|\n",
      "|  32|   24|\n",
      "|32.5|    4|\n",
      "|  33|   21|\n",
      "|  34|   16|\n",
      "|34.5|    2|\n",
      "|  35|   23|\n",
      "|  36|   31|\n",
      "|36.5|    2|\n",
      "|  37|    9|\n",
      "|  38|   14|\n",
      "|38.5|    1|\n",
      "|  39|   20|\n",
      "|   4|   10|\n",
      "|  40|   18|\n",
      "|40.5|    3|\n",
      "|  41|   11|\n",
      "|  42|   18|\n",
      "|  43|    9|\n",
      "|  44|   10|\n",
      "|  45|   21|\n",
      "|45.5|    2|\n",
      "|  46|    6|\n",
      "|  47|   14|\n",
      "|  48|   14|\n",
      "|  49|    9|\n",
      "|   5|    5|\n",
      "|  50|   15|\n",
      "|  51|    8|\n",
      "|  52|    6|\n",
      "|  53|    4|\n",
      "|  54|   10|\n",
      "|  55|    8|\n",
      "|55.5|    1|\n",
      "|  56|    4|\n",
      "|  57|    5|\n",
      "|  58|    6|\n",
      "|  59|    3|\n",
      "|   6|    6|\n",
      "|  60|    7|\n",
      "|60.5|    1|\n",
      "|  61|    5|\n",
      "|  62|    5|\n",
      "|  63|    4|\n",
      "|  64|    5|\n",
      "|  65|    3|\n",
      "|  66|    1|\n",
      "|  67|    1|\n",
      "|   7|    4|\n",
      "|  70|    2|\n",
      "|70.5|    1|\n",
      "|  71|    2|\n",
      "|  74|    1|\n",
      "|  76|    1|\n",
      "|   8|    6|\n",
      "|  80|    1|\n",
      "|   9|   10|\n",
      "+----+-----+\n",
      "\n"
     ]
    }
   ],
   "source": [
    "#trying to make histogram, but Age variable is not in proper format\n",
    "age_hist = spark.sql(\n",
    "    \"SELECT Age AS age, \\\n",
    "            count(*) AS count \\\n",
    "    FROM train \\\n",
    "    GROUP BY Age \\\n",
    "    ORDER BY Age\")\n",
    "age_hist.show(n=age_hist.count())"
   ]
  },
  {
   "cell_type": "code",
   "execution_count": 218,
   "metadata": {
    "collapsed": false
   },
   "outputs": [
    {
     "name": "stdout",
     "output_type": "stream",
     "text": [
      "+------------+-----------+-----+\n",
      "|bucket_floor|bucket_name|count|\n",
      "+------------+-----------+-----+\n",
      "|        null|       null|  263|\n",
      "|           0|     0 to 5|   51|\n",
      "|           5|    5 to 10|   31|\n",
      "|          10|   10 to 15|   27|\n",
      "|          15|   15 to 20|  116|\n",
      "|          20|   20 to 25|  184|\n",
      "|          25|   25 to 30|  160|\n",
      "|          30|   30 to 35|  132|\n",
      "|          35|   35 to 40|  100|\n",
      "|          40|   40 to 45|   69|\n",
      "|          45|   45 to 50|   66|\n",
      "|          50|   50 to 55|   43|\n",
      "|          55|   55 to 60|   27|\n",
      "|          60|   60 to 65|   27|\n",
      "|          65|   65 to 70|    5|\n",
      "|          70|   70 to 75|    6|\n",
      "|          75|   75 to 80|    1|\n",
      "|          80|   80 to 85|    1|\n",
      "+------------+-----------+-----+\n",
      "\n"
     ]
    }
   ],
   "source": [
    "#Creating Buckets\n",
    "age_hist = spark.sql(\n",
    "    \"SELECT bucket_floor, \\\n",
    "        CONCAT(bucket_floor, ' to ', bucket_ceiling) as bucket_name, \\\n",
    "        count(*) as count \\\n",
    "     FROM ( \\\n",
    "        SELECT floor(Age/5.00)*5 as bucket_floor, \\\n",
    "            floor(Age/5.00)*5 + 5 as bucket_ceiling \\\n",
    "        FROM train \\\n",
    "     ) a \\\n",
    "     GROUP BY 1, 2 \\\n",
    "     ORDER BY 1\")\n",
    "\n",
    "age_hist.show(n=age_hist.count())"
   ]
  },
  {
   "cell_type": "code",
   "execution_count": 219,
   "metadata": {
    "collapsed": true
   },
   "outputs": [],
   "source": [
    "# replace None values\n",
    "def get_column(df, colname):\n",
    "    coldata = df.rdd.map(lambda r: r[colname]).collect()\n",
    "    coldata = ['None' if v is None else v for v in coldata] \n",
    "    return(coldata)\n",
    "\n",
    "age = get_column(age_hist, \"bucket_name\")\n",
    "count = get_column(age_hist, \"count\")"
   ]
  },
  {
   "cell_type": "code",
   "execution_count": 220,
   "metadata": {
    "collapsed": false
   },
   "outputs": [
    {
     "data": {
      "image/png": "[encoded data removed]",
      "text/plain": [
       "<matplotlib.figure.Figure at 0x7f47b4cc4ac8>"
      ]
     },
     "metadata": {},
     "output_type": "display_data"
    }
   ],
   "source": [
    "%matplotlib inline\n",
    "\n",
    "barplt = sns.barplot(age, count)\n",
    "for item in barplt.get_xticklabels():\n",
    "    item.set_rotation(45)"
   ]
  },
  {
   "cell_type": "markdown",
   "metadata": {},
   "source": [
    "## Function for making Histograms"
   ]
  },
  {
   "cell_type": "code",
   "execution_count": 221,
   "metadata": {
    "collapsed": true
   },
   "outputs": [],
   "source": [
    "def get_column(df, colname):\n",
    "    coldata = df.rdd.map(lambda r: r[colname]).collect()\n",
    "    coldata = ['None' if v is None else v for v in coldata] #replace None values\n",
    "    return(coldata)\n",
    "\n",
    "def histplot(dfname, colname, binsize):\n",
    "    binsize = str(binsize)\n",
    "    dfname.createOrReplaceTempView(\"tmpDF\")\n",
    "    hist_query = \"SELECT bucket_floor, \\\n",
    "        CONCAT(bucket_floor, ' to ', bucket_ceiling) as bucket_name, \\\n",
    "        count(*) as count \\\n",
    "     FROM ( \\\n",
    "        SELECT floor(\" + colname + \"/\" + binsize + \")*\" + binsize + \" as bucket_floor, \\\n",
    "            floor(\" + colname + \"/\" + binsize + \")*\" + binsize + \" + \" + binsize + \" as bucket_ceiling \\\n",
    "        FROM tmpDF \\\n",
    "     ) a \\\n",
    "     GROUP BY 1, 2 \\\n",
    "     ORDER BY 1\"\n",
    "    hist_data = spark.sql(hist_query)\n",
    "    xvar = get_column(hist_data, \"bucket_name\")\n",
    "    count = get_column(hist_data, \"count\")\n",
    "    barplt = sns.barplot(xvar, count)\n",
    "    for item in barplt.get_xticklabels():\n",
    "        item.set_rotation(45)\n",
    "    return(barplt)"
   ]
  },
  {
   "cell_type": "code",
   "execution_count": 222,
   "metadata": {
    "collapsed": false
   },
   "outputs": [
    {
     "data": {
      "text/plain": [
       "<matplotlib.axes._subplots.AxesSubplot at 0x7f47b4c350f0>"
      ]
     },
     "execution_count": 222,
     "metadata": {},
     "output_type": "execute_result"
    },
    {
     "data": {
      "image/png": "[encoded data removed]",
      "text/plain": [
       "<matplotlib.figure.Figure at 0x7f47b4bb6390>"
      ]
     },
     "metadata": {},
     "output_type": "display_data"
    }
   ],
   "source": [
    "#check\n",
    "histplot(df, \"Age\", 10)"
   ]
  },
  {
   "cell_type": "code",
   "execution_count": 223,
   "metadata": {
    "collapsed": false
   },
   "outputs": [
    {
     "data": {
      "text/plain": [
       "<matplotlib.axes._subplots.AxesSubplot at 0x7f47b4b61048>"
      ]
     },
     "execution_count": 223,
     "metadata": {},
     "output_type": "execute_result"
    },
    {
     "data": {
      "image/png": "[encoded data removed]",
      "text/plain": [
       "<matplotlib.figure.Figure at 0x7f47b4b52240>"
      ]
     },
     "metadata": {},
     "output_type": "display_data"
    }
   ],
   "source": [
    "histplot(df, \"Survived\", 1)"
   ]
  },
  {
   "cell_type": "code",
   "execution_count": 224,
   "metadata": {
    "collapsed": false
   },
   "outputs": [
    {
     "data": {
      "text/plain": [
       "<matplotlib.axes._subplots.AxesSubplot at 0x7f47b4b636a0>"
      ]
     },
     "execution_count": 224,
     "metadata": {},
     "output_type": "execute_result"
    },
    {
     "data": {
      "image/png": "[encoded data removed]",
      "text/plain": [
       "<matplotlib.figure.Figure at 0x7f47b4b6bb70>"
      ]
     },
     "metadata": {},
     "output_type": "display_data"
    }
   ],
   "source": [
    "histplot(df, \"SibSp\", 1)"
   ]
  },
  {
   "cell_type": "code",
   "execution_count": 225,
   "metadata": {
    "collapsed": false
   },
   "outputs": [
    {
     "data": {
      "text/plain": [
       "<matplotlib.axes._subplots.AxesSubplot at 0x7f47b4ab20f0>"
      ]
     },
     "execution_count": 225,
     "metadata": {},
     "output_type": "execute_result"
    },
    {
     "data": {
      "image/png": "[encoded data removed]",
      "text/plain": [
       "<matplotlib.figure.Figure at 0x7f47b4a41eb8>"
      ]
     },
     "metadata": {},
     "output_type": "display_data"
    }
   ],
   "source": [
    "histplot(df, \"Fare\", 10)"
   ]
  },
  {
   "cell_type": "markdown",
   "metadata": {},
   "source": [
    "#### This function will not work for Categorical Variables. Hence making another function for categorical variables."
   ]
  },
  {
   "cell_type": "code",
   "execution_count": 226,
   "metadata": {
    "collapsed": true
   },
   "outputs": [],
   "source": [
    "def histplot_s(df, colname):\n",
    "    xvar = get_column(df, colname)\n",
    "    counter = collections.Counter(xvar)\n",
    "    barplt = sns.barplot(list(counter.keys()), list(counter.values()))\n",
    "    for item in barplt.get_xticklabels():\n",
    "        item.set_rotation(45)\n",
    "    return(barplt)"
   ]
  },
  {
   "cell_type": "code",
   "execution_count": 227,
   "metadata": {
    "collapsed": false
   },
   "outputs": [
    {
     "data": {
      "text/plain": [
       "<matplotlib.axes._subplots.AxesSubplot at 0x7f47b4fd9e48>"
      ]
     },
     "execution_count": 227,
     "metadata": {},
     "output_type": "execute_result"
    },
    {
     "data": {
      "image/png": "[encoded data removed]",
      "text/plain": [
       "<matplotlib.figure.Figure at 0x7f47b4fbb0f0>"
      ]
     },
     "metadata": {},
     "output_type": "display_data"
    }
   ],
   "source": [
    "#Testing for categorical variable\n",
    "\n",
    "histplot_s(df, \"Sex\")"
   ]
  },
  {
   "cell_type": "code",
   "execution_count": 228,
   "metadata": {
    "collapsed": false
   },
   "outputs": [
    {
     "data": {
      "text/plain": [
       "<matplotlib.axes._subplots.AxesSubplot at 0x7f47b4ff6438>"
      ]
     },
     "execution_count": 228,
     "metadata": {},
     "output_type": "execute_result"
    },
    {
     "data": {
      "image/png": "[encoded data removed]",
      "text/plain": [
       "<matplotlib.figure.Figure at 0x7f47b4a1cf28>"
      ]
     },
     "metadata": {},
     "output_type": "display_data"
    }
   ],
   "source": [
    "histplot_s(df, \"Embarked\")"
   ]
  },
  {
   "cell_type": "markdown",
   "metadata": {},
   "source": [
    "#### Checking for Corelations"
   ]
  },
  {
   "cell_type": "code",
   "execution_count": 229,
   "metadata": {
    "collapsed": false
   },
   "outputs": [
    {
     "data": {
      "text/plain": [
       "0.21349686667435705"
      ]
     },
     "execution_count": 229,
     "metadata": {},
     "output_type": "execute_result"
    }
   ],
   "source": [
    "# Please note that only Pearson corelation is supported\n",
    "df.corr(\"Age\", \"Fare\")"
   ]
  },
  {
   "cell_type": "code",
   "execution_count": 230,
   "metadata": {
    "collapsed": false
   },
   "outputs": [
    {
     "data": {
      "text/plain": [
       "-0.13446462318917687"
      ]
     },
     "execution_count": 230,
     "metadata": {},
     "output_type": "execute_result"
    }
   ],
   "source": [
    "df.corr(\"Age\", \"SibSp\")"
   ]
  },
  {
   "cell_type": "code",
   "execution_count": 231,
   "metadata": {
    "collapsed": false
   },
   "outputs": [
    {
     "data": {
      "text/plain": [
       "-0.039940130829688975"
      ]
     },
     "execution_count": 231,
     "metadata": {},
     "output_type": "execute_result"
    }
   ],
   "source": [
    "df.corr(\"Age\", \"Parch\")"
   ]
  },
  {
   "cell_type": "code",
   "execution_count": 232,
   "metadata": {
    "collapsed": false
   },
   "outputs": [],
   "source": [
    "df_num = df['PassengerId','Pclass','SibSp','Parch','Survived','Age','Fare']"
   ]
  },
  {
   "cell_type": "code",
   "execution_count": 233,
   "metadata": {
    "collapsed": false
   },
   "outputs": [
    {
     "name": "stdout",
     "output_type": "stream",
     "text": [
      "+-----------+------+-----+-----+--------+----+-------+\n",
      "|PassengerId|Pclass|SibSp|Parch|Survived| Age|   Fare|\n",
      "+-----------+------+-----+-----+--------+----+-------+\n",
      "|          1|     3|    1|    0|       0|22.0|   7.25|\n",
      "|          2|     1|    1|    0|       1|38.0|71.2833|\n",
      "|          3|     3|    0|    0|       1|26.0|  7.925|\n",
      "|          4|     1|    1|    0|       1|35.0|   53.1|\n",
      "|          5|     3|    0|    0|       0|35.0|   8.05|\n",
      "+-----------+------+-----+-----+--------+----+-------+\n",
      "only showing top 5 rows\n",
      "\n"
     ]
    }
   ],
   "source": [
    "df_num.show(5)"
   ]
  },
  {
   "cell_type": "markdown",
   "metadata": {},
   "source": [
    "### Missing Value Imputation"
   ]
  },
  {
   "cell_type": "code",
   "execution_count": 235,
   "metadata": {
    "collapsed": true
   },
   "outputs": [],
   "source": [
    "#Counts for nulls, blanks etc\n",
    "numVars = ['Survived','Age','SibSp','Parch','Fare']\n",
    "stringVars = ['Cabin', 'Embarked', 'Pclass', 'Sex']\n",
    "\n",
    "def countNull(df,var):\n",
    "    return df.where(df[var].isNull()).count()\n",
    "\n",
    "def countEmptyString(df,var):\n",
    "    return df[df[var].isin(\"\")].count()\n",
    "\n",
    "def countZero(df,var):\n",
    "    return df[df[var].isin(0)].count()"
   ]
  },
  {
   "cell_type": "code",
   "execution_count": 236,
   "metadata": {
    "collapsed": false
   },
   "outputs": [
    {
     "data": {
      "text/plain": [
       "{'Age': 263,\n",
       " 'Cabin': 0,\n",
       " 'Embarked': 0,\n",
       " 'Fare': 1,\n",
       " 'Mark': 0,\n",
       " 'Name': 0,\n",
       " 'Parch': 0,\n",
       " 'PassengerId': 0,\n",
       " 'Pclass': 0,\n",
       " 'Sex': 0,\n",
       " 'SibSp': 0,\n",
       " 'Survived': 0,\n",
       " 'Ticket': 0}"
      ]
     },
     "execution_count": 236,
     "metadata": {},
     "output_type": "execute_result"
    }
   ],
   "source": [
    "missing = {var: countNull(df,var) for var in df.columns}\n",
    "missing"
   ]
  },
  {
   "cell_type": "code",
   "execution_count": 237,
   "metadata": {
    "collapsed": false
   },
   "outputs": [
    {
     "data": {
      "text/plain": [
       "{'Age': 0,\n",
       " 'Cabin': 1014,\n",
       " 'Embarked': 2,\n",
       " 'Fare': 0,\n",
       " 'Mark': 0,\n",
       " 'Name': 0,\n",
       " 'Parch': 0,\n",
       " 'PassengerId': 0,\n",
       " 'Pclass': 0,\n",
       " 'Sex': 0,\n",
       " 'SibSp': 0,\n",
       " 'Survived': 0,\n",
       " 'Ticket': 0}"
      ]
     },
     "execution_count": 237,
     "metadata": {},
     "output_type": "execute_result"
    }
   ],
   "source": [
    "missing = {var: countEmptyString(df, var) for var in df.columns}\n",
    "missing"
   ]
  },
  {
   "cell_type": "code",
   "execution_count": 238,
   "metadata": {
    "collapsed": false
   },
   "outputs": [
    {
     "data": {
      "text/plain": [
       "{'Age': 0,\n",
       " 'Cabin': 0,\n",
       " 'Embarked': 0,\n",
       " 'Fare': 17,\n",
       " 'Mark': 0,\n",
       " 'Name': 0,\n",
       " 'Parch': 1002,\n",
       " 'PassengerId': 0,\n",
       " 'Pclass': 0,\n",
       " 'Sex': 0,\n",
       " 'SibSp': 891,\n",
       " 'Survived': 967,\n",
       " 'Ticket': 0}"
      ]
     },
     "execution_count": 238,
     "metadata": {},
     "output_type": "execute_result"
    }
   ],
   "source": [
    "missing = {var: countZero(df, var) for var in df.columns}\n",
    "missing"
   ]
  },
  {
   "cell_type": "code",
   "execution_count": 37,
   "metadata": {
    "collapsed": false
   },
   "outputs": [
    {
     "data": {
      "text/plain": [
       "DataFrame[Name: string, Sex: string, Ticket: string, Cabin: string, Embarked: string, Mark: string, PassengerId: int, Pclass: int, SibSp: int, Parch: int, Survived: int, Age: float, Fare: float]"
      ]
     },
     "execution_count": 37,
     "metadata": {},
     "output_type": "execute_result"
    }
   ],
   "source": [
    "df"
   ]
  },
  {
   "cell_type": "code",
   "execution_count": 193,
   "metadata": {
    "collapsed": false
   },
   "outputs": [
    {
     "data": {
      "text/plain": [
       "[Row(PassengerId=1, Pclass=3, SibSp=1, Parch=0, Survived=0, Age=22.0, Fare=7.25),\n",
       " Row(PassengerId=2, Pclass=1, SibSp=1, Parch=0, Survived=1, Age=38.0, Fare=71.2833023071289),\n",
       " Row(PassengerId=3, Pclass=3, SibSp=0, Parch=0, Survived=1, Age=26.0, Fare=7.925000190734863),\n",
       " Row(PassengerId=4, Pclass=1, SibSp=1, Parch=0, Survived=1, Age=35.0, Fare=53.099998474121094),\n",
       " Row(PassengerId=5, Pclass=3, SibSp=0, Parch=0, Survived=0, Age=35.0, Fare=8.050000190734863)]"
      ]
     },
     "execution_count": 193,
     "metadata": {},
     "output_type": "execute_result"
    }
   ],
   "source": [
    "df_num.take(5)"
   ]
  },
  {
   "cell_type": "markdown",
   "metadata": {},
   "source": [
    "### Replacing NAN in Numerical variables"
   ]
  },
  {
   "cell_type": "code",
   "execution_count": 242,
   "metadata": {
    "collapsed": false
   },
   "outputs": [],
   "source": [
    "age_mean = df.groupBy().mean('Age').first()"
   ]
  },
  {
   "cell_type": "code",
   "execution_count": 243,
   "metadata": {
    "collapsed": false
   },
   "outputs": [],
   "source": [
    "age_mean = df.groupby(['Mark']).mean('Age').first()"
   ]
  },
  {
   "cell_type": "code",
   "execution_count": 244,
   "metadata": {
    "collapsed": false
   },
   "outputs": [
    {
     "data": {
      "text/plain": [
       "Row(Mark='train', avg(Age)=29.69911764704046)"
      ]
     },
     "execution_count": 244,
     "metadata": {},
     "output_type": "execute_result"
    }
   ],
   "source": [
    "age_mean"
   ]
  },
  {
   "cell_type": "code",
   "execution_count": 245,
   "metadata": {
    "collapsed": false
   },
   "outputs": [],
   "source": [
    "age_mean = df.groupby(['Mark']).mean('Age').take(2)"
   ]
  },
  {
   "cell_type": "code",
   "execution_count": 246,
   "metadata": {
    "collapsed": false
   },
   "outputs": [
    {
     "data": {
      "text/plain": [
       "[Row(Mark='train', avg(Age)=29.69911764704046),\n",
       " Row(Mark='test', avg(Age)=30.272590361490668)]"
      ]
     },
     "execution_count": 246,
     "metadata": {},
     "output_type": "execute_result"
    }
   ],
   "source": [
    "age_mean"
   ]
  },
  {
   "cell_type": "code",
   "execution_count": 247,
   "metadata": {
    "collapsed": true
   },
   "outputs": [],
   "source": [
    "Fare_mean = df.groupby(['Mark']).mean('Fare').take(2)"
   ]
  },
  {
   "cell_type": "code",
   "execution_count": 248,
   "metadata": {
    "collapsed": false
   },
   "outputs": [
    {
     "data": {
      "text/plain": [
       "[Row(Mark='train', avg(Fare)=32.20420804114722),\n",
       " Row(Mark='test', avg(Fare)=35.62718864996656)]"
      ]
     },
     "execution_count": 248,
     "metadata": {},
     "output_type": "execute_result"
    }
   ],
   "source": [
    "Fare_mean"
   ]
  },
  {
   "cell_type": "code",
   "execution_count": 249,
   "metadata": {
    "collapsed": false
   },
   "outputs": [
    {
     "data": {
      "text/plain": [
       "'test'"
      ]
     },
     "execution_count": 249,
     "metadata": {},
     "output_type": "execute_result"
    }
   ],
   "source": [
    "age_mean[1][0]"
   ]
  },
  {
   "cell_type": "code",
   "execution_count": 301,
   "metadata": {
    "collapsed": false
   },
   "outputs": [
    {
     "data": {
      "text/plain": [
       "[Row(Mark='train', avg(Age)=29.69911764704046),\n",
       " Row(Mark='test', avg(Age)=30.272590361490668)]"
      ]
     },
     "execution_count": 301,
     "metadata": {},
     "output_type": "execute_result"
    }
   ],
   "source": [
    "age_mean = df.groupby(['Mark']).mean('Age').take(2)\n",
    "age_mean"
   ]
  },
  {
   "cell_type": "code",
   "execution_count": 302,
   "metadata": {
    "collapsed": false
   },
   "outputs": [
    {
     "data": {
      "text/plain": [
       "29.69911764704046"
      ]
     },
     "execution_count": 302,
     "metadata": {},
     "output_type": "execute_result"
    }
   ],
   "source": [
    "age_mean_train = age_mean[0][1]\n",
    "age_mean_train"
   ]
  },
  {
   "cell_type": "code",
   "execution_count": 303,
   "metadata": {
    "collapsed": false
   },
   "outputs": [
    {
     "data": {
      "text/plain": [
       "30.272590361490668"
      ]
     },
     "execution_count": 303,
     "metadata": {},
     "output_type": "execute_result"
    }
   ],
   "source": [
    "age_mean_test = age_mean[1][1]\n",
    "age_mean_test"
   ]
  },
  {
   "cell_type": "code",
   "execution_count": 304,
   "metadata": {
    "collapsed": false
   },
   "outputs": [
    {
     "data": {
      "text/plain": [
       "[Row(Mark='train', avg(Fare)=32.20420804114722),\n",
       " Row(Mark='test', avg(Fare)=35.62718864996656)]"
      ]
     },
     "execution_count": 304,
     "metadata": {},
     "output_type": "execute_result"
    }
   ],
   "source": [
    "Fare_mean = df.groupby(['Mark']).mean('Fare').take(2)\n",
    "Fare_mean"
   ]
  },
  {
   "cell_type": "code",
   "execution_count": 305,
   "metadata": {
    "collapsed": false
   },
   "outputs": [
    {
     "data": {
      "text/plain": [
       "32.20420804114722"
      ]
     },
     "execution_count": 305,
     "metadata": {},
     "output_type": "execute_result"
    }
   ],
   "source": [
    "fare_mean_train = Fare_mean[0][1]\n",
    "fare_mean_train"
   ]
  },
  {
   "cell_type": "code",
   "execution_count": 306,
   "metadata": {
    "collapsed": false
   },
   "outputs": [
    {
     "data": {
      "text/plain": [
       "35.62718864996656"
      ]
     },
     "execution_count": 306,
     "metadata": {},
     "output_type": "execute_result"
    }
   ],
   "source": [
    "fare_mean_test = Fare_mean[1][1]\n",
    "fare_mean_test"
   ]
  },
  {
   "cell_type": "code",
   "execution_count": 307,
   "metadata": {
    "collapsed": true
   },
   "outputs": [],
   "source": [
    "train1 = df.where(df.Mark=='train')\n",
    "test1 = df.where(df.Mark=='test')"
   ]
  },
  {
   "cell_type": "code",
   "execution_count": 352,
   "metadata": {
    "collapsed": false
   },
   "outputs": [
    {
     "name": "stdout",
     "output_type": "stream",
     "text": [
      "+--------------------+------+-------+-----+--------+----+-----------+------+-----+-----+--------+----+-------+-----+\n",
      "|                Name|   Sex| Ticket|Cabin|Embarked|Mark|PassengerId|Pclass|SibSp|Parch|Survived| Age|   Fare|Title|\n",
      "+--------------------+------+-------+-----+--------+----+-----------+------+-----+-----+--------+----+-------+-----+\n",
      "|    Kelly, Mr. James|  male| 330911|     |       Q|test|        892|     3|    0|    0|       0|34.5| 7.8292|   Mr|\n",
      "|Wilkes, Mrs. Jame...|female| 363272|     |       S|test|        893|     3|    1|    0|       0|47.0|    7.0|  Mrs|\n",
      "|Myles, Mr. Thomas...|  male| 240276|     |       Q|test|        894|     2|    0|    0|       0|62.0| 9.6875|   Mr|\n",
      "|    Wirz, Mr. Albert|  male| 315154|     |       S|test|        895|     3|    0|    0|       0|27.0| 8.6625|   Mr|\n",
      "|Hirvonen, Mrs. Al...|female|3101298|     |       S|test|        896|     3|    1|    1|       0|22.0|12.2875|  Mrs|\n",
      "+--------------------+------+-------+-----+--------+----+-----------+------+-----+-----+--------+----+-------+-----+\n",
      "only showing top 5 rows\n",
      "\n"
     ]
    }
   ],
   "source": [
    "test1.show(5)"
   ]
  },
  {
   "cell_type": "code",
   "execution_count": 308,
   "metadata": {
    "collapsed": true
   },
   "outputs": [],
   "source": [
    "df1 = train1.na.fill({'Age':age_mean_train,'Fare':fare_mean_train})\n",
    "df2 = test1.na.fill({'Age':age_mean_test,'Fare':fare_mean_test})"
   ]
  },
  {
   "cell_type": "code",
   "execution_count": 309,
   "metadata": {
    "collapsed": true
   },
   "outputs": [],
   "source": [
    "df_updated = df1.unionAll(df2)"
   ]
  },
  {
   "cell_type": "code",
   "execution_count": 310,
   "metadata": {
    "collapsed": true
   },
   "outputs": [],
   "source": [
    "df = df_updated"
   ]
  },
  {
   "cell_type": "markdown",
   "metadata": {},
   "source": [
    "## Feature Engineering"
   ]
  },
  {
   "cell_type": "code",
   "execution_count": 311,
   "metadata": {
    "collapsed": false
   },
   "outputs": [
    {
     "name": "stdout",
     "output_type": "stream",
     "text": [
      "+--------------------+---------------+\n",
      "|                Name|          Title|\n",
      "+--------------------+---------------+\n",
      "|Braund, Mr. Owen ...|     Braund, Mr|\n",
      "|Cumings, Mrs. Joh...|   Cumings, Mrs|\n",
      "|Heikkinen, Miss. ...|Heikkinen, Miss|\n",
      "|Futrelle, Mrs. Ja...|  Futrelle, Mrs|\n",
      "|Allen, Mr. Willia...|      Allen, Mr|\n",
      "+--------------------+---------------+\n",
      "only showing top 5 rows\n",
      "\n"
     ]
    }
   ],
   "source": [
    "from pyspark.sql.functions import udf\n",
    "from pyspark.sql.types import StringType\n",
    " \n",
    "## create user defined function to extract title\n",
    "getTitle = udf(lambda name: name.split('.')[0].strip(), StringType())\n",
    "df = df.withColumn('Title', getTitle(df['Name']))\n",
    " \n",
    "df.select('Name','Title').show(5)"
   ]
  },
  {
   "cell_type": "code",
   "execution_count": 312,
   "metadata": {
    "collapsed": false
   },
   "outputs": [
    {
     "name": "stdout",
     "output_type": "stream",
     "text": [
      "+--------------------+-----+\n",
      "|                Name|Title|\n",
      "+--------------------+-----+\n",
      "|Braund, Mr. Owen ...|   Mr|\n",
      "|Cumings, Mrs. Joh...|  Mrs|\n",
      "|Heikkinen, Miss. ...| Miss|\n",
      "|Futrelle, Mrs. Ja...|  Mrs|\n",
      "|Allen, Mr. Willia...|   Mr|\n",
      "+--------------------+-----+\n",
      "only showing top 5 rows\n",
      "\n"
     ]
    }
   ],
   "source": [
    "getTitle = udf(lambda name: name.split('.')[0].split(',')[1].strip(), StringType())\n",
    "df = df.withColumn('Title', getTitle(df['Name']))\n",
    " \n",
    "df.select('Name','Title').show(5)"
   ]
  },
  {
   "cell_type": "markdown",
   "metadata": {},
   "source": [
    "### Categorical Variable Treatment\n",
    "\n",
    "Some algorithms can handle categorical variables directly, some can't.\n",
    "Label Encoder\n",
    "It is used to transform non-numerical labels to numerical labels (or nominal categorical variables)\n",
    "Numerical labels are always between 0 and n_classes-1\n",
    "May introduce spurious relationship\n",
    "Age and City\n",
    "\n",
    "One Hot Encoding\n",
    "Encodes categorical integer features using a one-hot aka one-of-K scheme\n",
    "Preferable\n"
   ]
  },
  {
   "cell_type": "markdown",
   "metadata": {},
   "source": [
    "### Label Encoding"
   ]
  },
  {
   "cell_type": "code",
   "execution_count": 313,
   "metadata": {
    "collapsed": false
   },
   "outputs": [],
   "source": [
    "catVars = ['Pclass','Sex','Embarked','Title']\n",
    " \n",
    "## index Sex variable\n",
    "si = StringIndexer(inputCol = 'Sex', outputCol = 'Sex_indexed')\n",
    "df_indexed = si.fit(df).transform(df).drop('Sex').withColumnRenamed('Sex_indexed','Sex')"
   ]
  },
  {
   "cell_type": "code",
   "execution_count": 314,
   "metadata": {
    "collapsed": false
   },
   "outputs": [
    {
     "name": "stdout",
     "output_type": "stream",
     "text": [
      "+--------------------+----------------+-----+--------+-----+-----------+------+-----+-----+--------+----+-------+-----+---+\n",
      "|                Name|          Ticket|Cabin|Embarked| Mark|PassengerId|Pclass|SibSp|Parch|Survived| Age|   Fare|Title|Sex|\n",
      "+--------------------+----------------+-----+--------+-----+-----------+------+-----+-----+--------+----+-------+-----+---+\n",
      "|Braund, Mr. Owen ...|       A/5 21171|     |       S|train|          1|     3|    1|    0|       0|22.0|   7.25|   Mr|0.0|\n",
      "|Cumings, Mrs. Joh...|        PC 17599|  C85|       C|train|          2|     1|    1|    0|       1|38.0|71.2833|  Mrs|1.0|\n",
      "|Heikkinen, Miss. ...|STON/O2. 3101282|     |       S|train|          3|     3|    0|    0|       1|26.0|  7.925| Miss|1.0|\n",
      "|Futrelle, Mrs. Ja...|          113803| C123|       S|train|          4|     1|    1|    0|       1|35.0|   53.1|  Mrs|1.0|\n",
      "|Allen, Mr. Willia...|          373450|     |       S|train|          5|     3|    0|    0|       0|35.0|   8.05|   Mr|0.0|\n",
      "+--------------------+----------------+-----+--------+-----+-----------+------+-----+-----+--------+----+-------+-----+---+\n",
      "only showing top 5 rows\n",
      "\n"
     ]
    }
   ],
   "source": [
    "df_indexed.show(5)"
   ]
  },
  {
   "cell_type": "code",
   "execution_count": 315,
   "metadata": {
    "collapsed": false
   },
   "outputs": [],
   "source": [
    "# make use of pipeline to index all categorical variables\n",
    "def indexer(df, col):\n",
    "    si = StringIndexer(inputCol = col, outputCol = col+'_indexed').fit(df)\n",
    "    return si\n",
    " \n",
    "indexers = [indexer(df, col) for col in catVars]"
   ]
  },
  {
   "cell_type": "code",
   "execution_count": 316,
   "metadata": {
    "collapsed": false
   },
   "outputs": [
    {
     "name": "stdout",
     "output_type": "stream",
     "text": [
      "+--------+----------------+\n",
      "|Embarked|Embarked_indexed|\n",
      "+--------+----------------+\n",
      "|       S|             0.0|\n",
      "|       C|             1.0|\n",
      "|       S|             0.0|\n",
      "+--------+----------------+\n",
      "only showing top 3 rows\n",
      "\n"
     ]
    }
   ],
   "source": [
    "pipeline = Pipeline(stages = indexers)\n",
    "df_indexed = pipeline.fit(df).transform(df)\n",
    " \n",
    "df_indexed.select('Embarked','Embarked_indexed').show(3)"
   ]
  },
  {
   "cell_type": "markdown",
   "metadata": {},
   "source": [
    "###  We need convert features to Vectors (either SparseVector or DenseVector)."
   ]
  },
  {
   "cell_type": "code",
   "execution_count": 317,
   "metadata": {
    "collapsed": true
   },
   "outputs": [],
   "source": [
    "from pyspark.sql import Row\n",
    "from pyspark.ml.linalg import DenseVector"
   ]
  },
  {
   "cell_type": "code",
   "execution_count": 318,
   "metadata": {
    "collapsed": false
   },
   "outputs": [
    {
     "data": {
      "text/plain": [
       "['Pclass_indexed', 'Sex_indexed', 'Embarked_indexed', 'Title_indexed']"
      ]
     },
     "execution_count": 318,
     "metadata": {},
     "output_type": "execute_result"
    }
   ],
   "source": [
    "catVarsIndexed = [i + '_indexed' for i in catVars]\n",
    "catVarsIndexed"
   ]
  },
  {
   "cell_type": "code",
   "execution_count": 319,
   "metadata": {
    "collapsed": false
   },
   "outputs": [
    {
     "data": {
      "text/plain": [
       "['Survived',\n",
       " 'Age',\n",
       " 'SibSp',\n",
       " 'Parch',\n",
       " 'Fare',\n",
       " 'Pclass_indexed',\n",
       " 'Sex_indexed',\n",
       " 'Embarked_indexed',\n",
       " 'Title_indexed']"
      ]
     },
     "execution_count": 319,
     "metadata": {},
     "output_type": "execute_result"
    }
   ],
   "source": [
    "featuresCol = numVars + catVarsIndexed\n",
    "featuresCol"
   ]
  },
  {
   "cell_type": "code",
   "execution_count": 320,
   "metadata": {
    "collapsed": false
   },
   "outputs": [
    {
     "data": {
      "text/plain": [
       "['Age',\n",
       " 'SibSp',\n",
       " 'Parch',\n",
       " 'Fare',\n",
       " 'Pclass_indexed',\n",
       " 'Sex_indexed',\n",
       " 'Embarked_indexed',\n",
       " 'Title_indexed']"
      ]
     },
     "execution_count": 320,
     "metadata": {},
     "output_type": "execute_result"
    }
   ],
   "source": [
    "featuresCol.remove('Survived')\n",
    "featuresCol"
   ]
  },
  {
   "cell_type": "code",
   "execution_count": 321,
   "metadata": {
    "collapsed": false
   },
   "outputs": [
    {
     "data": {
      "text/plain": [
       "['Mark', 'Survived']"
      ]
     },
     "execution_count": 321,
     "metadata": {},
     "output_type": "execute_result"
    }
   ],
   "source": [
    "labelCol = ['Mark','Survived']\n",
    "labelCol"
   ]
  },
  {
   "cell_type": "code",
   "execution_count": 322,
   "metadata": {
    "collapsed": false
   },
   "outputs": [
    {
     "data": {
      "text/plain": [
       "<Row(mark, label, features)>"
      ]
     },
     "execution_count": 322,
     "metadata": {},
     "output_type": "execute_result"
    }
   ],
   "source": [
    "row = Row('mark','label','features') \n",
    "row"
   ]
  },
  {
   "cell_type": "code",
   "execution_count": 323,
   "metadata": {
    "collapsed": false
   },
   "outputs": [
    {
     "data": {
      "text/plain": [
       "DataFrame[Mark: string, Survived: int, Age: float, SibSp: int, Parch: int, Fare: float, Pclass_indexed: double, Sex_indexed: double, Embarked_indexed: double, Title_indexed: double]"
      ]
     },
     "execution_count": 323,
     "metadata": {},
     "output_type": "execute_result"
    }
   ],
   "source": [
    "\n",
    "df_indexed = df_indexed[labelCol + featuresCol]\n",
    "df_indexed"
   ]
  },
  {
   "cell_type": "code",
   "execution_count": 269,
   "metadata": {
    "collapsed": false
   },
   "outputs": [
    {
     "name": "stdout",
     "output_type": "stream",
     "text": [
      "+-----+-----+--------------------+\n",
      "| mark|label|            features|\n",
      "+-----+-----+--------------------+\n",
      "|train|    0|[22.0,1.0,0.0,7.2...|\n",
      "|train|    1|[38.0,1.0,0.0,71....|\n",
      "|train|    1|[26.0,0.0,0.0,7.9...|\n",
      "|train|    1|[35.0,1.0,0.0,53....|\n",
      "|train|    0|[35.0,0.0,0.0,8.0...|\n",
      "|train|    0|[NaN,0.0,0.0,8.45...|\n",
      "|train|    0|[54.0,0.0,0.0,51....|\n",
      "|train|    0|[2.0,3.0,1.0,21.0...|\n",
      "|train|    1|[27.0,0.0,2.0,11....|\n",
      "|train|    1|[14.0,1.0,0.0,30....|\n",
      "|train|    1|[4.0,1.0,1.0,16.7...|\n",
      "|train|    1|[58.0,0.0,0.0,26....|\n",
      "|train|    0|[20.0,0.0,0.0,8.0...|\n",
      "|train|    0|[39.0,1.0,5.0,31....|\n",
      "|train|    0|[14.0,0.0,0.0,7.8...|\n",
      "|train|    1|[55.0,0.0,0.0,16....|\n",
      "|train|    0|[2.0,4.0,1.0,29.1...|\n",
      "|train|    1|[NaN,0.0,0.0,13.0...|\n",
      "|train|    0|[31.0,1.0,0.0,18....|\n",
      "|train|    1|[NaN,0.0,0.0,7.22...|\n",
      "+-----+-----+--------------------+\n",
      "only showing top 20 rows\n",
      "\n"
     ]
    }
   ],
   "source": [
    "# 0-mark, 1-label, 2-features\n",
    "# map features to DenseVector\n",
    "lf = df_indexed.rdd.map(lambda r: (row(r[0], r[1],DenseVector(r[2:])))).toDF()\n",
    "lf.show()"
   ]
  },
  {
   "cell_type": "code",
   "execution_count": 333,
   "metadata": {
    "collapsed": false
   },
   "outputs": [
    {
     "name": "stdout",
     "output_type": "stream",
     "text": [
      "+-----+-----+--------------------+-----+\n",
      "| mark|label|            features|index|\n",
      "+-----+-----+--------------------+-----+\n",
      "|train|    0|[22.0,1.0,0.0,7.2...|  0.0|\n",
      "|train|    1|[38.0,1.0,0.0,71....|  1.0|\n",
      "|train|    1|[26.0,0.0,0.0,7.9...|  1.0|\n",
      "+-----+-----+--------------------+-----+\n",
      "only showing top 3 rows\n",
      "\n"
     ]
    }
   ],
   "source": [
    "# index label\n",
    "# convert numeric label to categorical, which is required by\n",
    "# decisionTree and randomForest\n",
    "lf = StringIndexer(inputCol = 'label', outputCol='index').fit(lf).transform(lf)\n",
    " \n",
    "lf.show(3)"
   ]
  },
  {
   "cell_type": "markdown",
   "metadata": {},
   "source": [
    "### Split back into train/test data"
   ]
  },
  {
   "cell_type": "code",
   "execution_count": 334,
   "metadata": {
    "collapsed": true
   },
   "outputs": [],
   "source": [
    "train = lf.where(lf.mark =='train')\n",
    "test = lf.where(lf.mark =='test')"
   ]
  },
  {
   "cell_type": "code",
   "execution_count": 353,
   "metadata": {
    "collapsed": false
   },
   "outputs": [
    {
     "name": "stdout",
     "output_type": "stream",
     "text": [
      "+-----+-----+--------------------+-----+\n",
      "| mark|label|            features|index|\n",
      "+-----+-----+--------------------+-----+\n",
      "|train|    0|[1.0,4.0,1.0,39.6...|  0.0|\n",
      "|train|    0|[1.0,5.0,2.0,46.9...|  0.0|\n",
      "|train|    0|[2.0,0.0,1.0,10.4...|  0.0|\n",
      "|train|    0|[2.0,3.0,1.0,21.0...|  0.0|\n",
      "|train|    0|[2.0,4.0,1.0,29.1...|  0.0|\n",
      "+-----+-----+--------------------+-----+\n",
      "only showing top 5 rows\n",
      "\n"
     ]
    }
   ],
   "source": [
    "type(train)\n",
    "train.show(5)"
   ]
  },
  {
   "cell_type": "code",
   "execution_count": 336,
   "metadata": {
    "collapsed": true
   },
   "outputs": [],
   "source": [
    "# random split further to get train/validate\n",
    "train, validate = train.randomSplit([0.7,0.3], seed =121)"
   ]
  },
  {
   "cell_type": "code",
   "execution_count": 337,
   "metadata": {
    "collapsed": false
   },
   "outputs": [
    {
     "name": "stdout",
     "output_type": "stream",
     "text": [
      "Train Data Number of Row: 637\n",
      "Validate Data Number of Row: 254\n",
      "Test Data Number of Row: 418\n"
     ]
    }
   ],
   "source": [
    "print('Train Data Number of Row: '+ str(train.count()))\n",
    "print('Validate Data Number of Row: '+ str(validate.count()))\n",
    "print('Test Data Number of Row: '+ str(test.count()))"
   ]
  },
  {
   "cell_type": "markdown",
   "metadata": {},
   "source": [
    "## Modelling\n",
    "\n",
    "ML is built based on DataFrame, while mllib is based on RDD\n",
    "We'll fit the logistic, decision tree and random forest models from ML packages"
   ]
  },
  {
   "cell_type": "markdown",
   "metadata": {},
   "source": [
    "### Logistic Regression"
   ]
  },
  {
   "cell_type": "code",
   "execution_count": 338,
   "metadata": {
    "collapsed": true
   },
   "outputs": [],
   "source": [
    "from pyspark.ml.classification import LogisticRegression\n",
    " \n",
    "# regPara: lasso regularisation parameter (L1)\n",
    "lr = LogisticRegression(maxIter = 100, regParam = 0.05, labelCol='index').fit(train)"
   ]
  },
  {
   "cell_type": "code",
   "execution_count": 339,
   "metadata": {
    "collapsed": true
   },
   "outputs": [],
   "source": [
    "# Evaluate model based on auc ROC(default for binary classification)\n",
    "from pyspark.ml.evaluation import BinaryClassificationEvaluator\n",
    " \n",
    "def testModel(model, validate = validate):\n",
    "    pred = model.transform(validate)\n",
    "    evaluator = BinaryClassificationEvaluator(labelCol = 'index')\n",
    "    return evaluator.evaluate(pred)"
   ]
  },
  {
   "cell_type": "code",
   "execution_count": 340,
   "metadata": {
    "collapsed": false
   },
   "outputs": [
    {
     "name": "stdout",
     "output_type": "stream",
     "text": [
      "AUC ROC of Logistic Regression model is: 0.5\n"
     ]
    }
   ],
   "source": [
    "print('AUC ROC of Logistic Regression model is: ' + str(testModel(lr)))"
   ]
  },
  {
   "cell_type": "code",
   "execution_count": 341,
   "metadata": {
    "collapsed": false
   },
   "outputs": [
    {
     "name": "stdout",
     "output_type": "stream",
     "text": [
      "AUC ROC of Logistic Regression model is: 0.0\n"
     ]
    }
   ],
   "source": [
    "print('AUC ROC of Logistic Regression model is: ' + str(testModel(lr, validate=test)))"
   ]
  },
  {
   "cell_type": "code",
   "execution_count": 342,
   "metadata": {
    "collapsed": false
   },
   "outputs": [
    {
     "name": "stdout",
     "output_type": "stream",
     "text": [
      "+----+-----+--------------------+-----+-------------+-----------+----------+\n",
      "|mark|label|            features|index|rawPrediction|probability|prediction|\n",
      "+----+-----+--------------------+-----+-------------+-----------+----------+\n",
      "|test|    0|[34.5,0.0,0.0,7.8...|  0.0|    [NaN,NaN]|  [NaN,NaN]|       0.0|\n",
      "|test|    0|[47.0,1.0,0.0,7.0...|  0.0|    [NaN,NaN]|  [NaN,NaN]|       0.0|\n",
      "|test|    0|[62.0,0.0,0.0,9.6...|  0.0|    [NaN,NaN]|  [NaN,NaN]|       0.0|\n",
      "|test|    0|[27.0,0.0,0.0,8.6...|  0.0|    [NaN,NaN]|  [NaN,NaN]|       0.0|\n",
      "|test|    0|[22.0,1.0,1.0,12....|  0.0|    [NaN,NaN]|  [NaN,NaN]|       0.0|\n",
      "+----+-----+--------------------+-----+-------------+-----------+----------+\n",
      "only showing top 5 rows\n",
      "\n"
     ]
    }
   ],
   "source": [
    "pred_test = lr.transform(test)\n",
    "pred_test.show(5)"
   ]
  },
  {
   "cell_type": "code",
   "execution_count": 356,
   "metadata": {
    "collapsed": false
   },
   "outputs": [
    {
     "name": "stdout",
     "output_type": "stream",
     "text": [
      "+----+-----+--------------------+-----+-------------+--------------------+----------+\n",
      "|mark|label|            features|index|rawPrediction|         probability|prediction|\n",
      "+----+-----+--------------------+-----+-------------+--------------------+----------+\n",
      "|test|    0|[34.5,0.0,0.0,7.8...|  0.0|   [17.0,2.0]|[0.89473684210526...|       0.0|\n",
      "|test|    0|[47.0,1.0,0.0,7.0...|  0.0|   [2.0,11.0]|[0.15384615384615...|       1.0|\n",
      "|test|    0|[62.0,0.0,0.0,9.6...|  0.0|   [11.0,0.0]|           [1.0,0.0]|       0.0|\n",
      "|test|    0|[27.0,0.0,0.0,8.6...|  0.0|  [47.0,11.0]|[0.81034482758620...|       0.0|\n",
      "|test|    0|[22.0,1.0,1.0,12....|  0.0|    [9.0,0.0]|           [1.0,0.0]|       0.0|\n",
      "+----+-----+--------------------+-----+-------------+--------------------+----------+\n",
      "only showing top 5 rows\n",
      "\n"
     ]
    }
   ],
   "source": [
    "pred_test1 = dt.transform(test)\n",
    "pred_test1.show(5)"
   ]
  },
  {
   "cell_type": "code",
   "execution_count": 357,
   "metadata": {
    "collapsed": false
   },
   "outputs": [
    {
     "name": "stdout",
     "output_type": "stream",
     "text": [
      "+----+-----+--------------------+-----+-------------+--------------------+----------+\n",
      "|mark|label|            features|index|rawPrediction|         probability|prediction|\n",
      "+----+-----+--------------------+-----+-------------+--------------------+----------+\n",
      "|test|    0|[34.5,0.0,0.0,7.8...|  0.0|   [17.0,2.0]|[0.89473684210526...|       0.0|\n",
      "|test|    0|[47.0,1.0,0.0,7.0...|  0.0|   [2.0,11.0]|[0.15384615384615...|       1.0|\n",
      "|test|    0|[62.0,0.0,0.0,9.6...|  0.0|   [11.0,0.0]|           [1.0,0.0]|       0.0|\n",
      "|test|    0|[27.0,0.0,0.0,8.6...|  0.0|  [47.0,11.0]|[0.81034482758620...|       0.0|\n",
      "|test|    0|[22.0,1.0,1.0,12....|  0.0|    [9.0,0.0]|           [1.0,0.0]|       0.0|\n",
      "+----+-----+--------------------+-----+-------------+--------------------+----------+\n",
      "only showing top 5 rows\n",
      "\n"
     ]
    }
   ],
   "source": [
    "output = pred_test1\n",
    "output.show(5)"
   ]
  },
  {
   "cell_type": "code",
   "execution_count": 361,
   "metadata": {
    "collapsed": false
   },
   "outputs": [],
   "source": []
  },
  {
   "cell_type": "code",
   "execution_count": 343,
   "metadata": {
    "collapsed": true
   },
   "outputs": [],
   "source": [
    "from pyspark.ml.classification import DecisionTreeClassifier, RandomForestClassifier, GBTClassifier\n",
    " \n",
    "dt = DecisionTreeClassifier(maxDepth = 3, labelCol ='index').fit(train)\n",
    "rf = RandomForestClassifier(numTrees = 100, labelCol = 'index').fit(train)\n",
    "gbt = GBTClassifier(maxIter = 10, labelCol = 'index').fit(train)\n"
   ]
  },
  {
   "cell_type": "code",
   "execution_count": 344,
   "metadata": {
    "collapsed": false
   },
   "outputs": [
    {
     "name": "stdout",
     "output_type": "stream",
     "text": [
      "{'DecistionTree': 0.808834778174401, 'LogisticRegression': 0.5, 'RandomForest': 0.8888003569607346}\n"
     ]
    }
   ],
   "source": [
    "models = {'LogisticRegression':lr,\n",
    "          'DecistionTree':dt,\n",
    "          'RandomForest':rf}\n",
    " \n",
    "modelPerf = {k:testModel(v) for k,v in models.items()}\n",
    "print(modelPerf)"
   ]
  },
  {
   "cell_type": "code",
   "execution_count": 345,
   "metadata": {
    "collapsed": true
   },
   "outputs": [],
   "source": [
    "def model_acc(model, validate=validate):\n",
    "    pred = model.transform(validate)\n",
    "    eval_vec = np.array(get_column(pred, \"label\")) == np.array(get_column(pred, \"prediction\")) \n",
    "    return(eval_vec.sum()/len(eval_vec))"
   ]
  },
  {
   "cell_type": "code",
   "execution_count": 346,
   "metadata": {
    "collapsed": false
   },
   "outputs": [
    {
     "data": {
      "text/plain": [
       "0.79133858267716539"
      ]
     },
     "execution_count": 346,
     "metadata": {},
     "output_type": "execute_result"
    }
   ],
   "source": [
    "model_acc(gbt)"
   ]
  },
  {
   "cell_type": "code",
   "execution_count": 347,
   "metadata": {
    "collapsed": false
   },
   "outputs": [
    {
     "name": "stdout",
     "output_type": "stream",
     "text": [
      "{'DecistionTree': 0.81889763779527558, 'LogisticRegression': 0.58267716535433067, 'RandomForest': 0.81889763779527558, 'GradientBoostingMachines': 0.79133858267716539}\n"
     ]
    }
   ],
   "source": [
    "models = {'LogisticRegression':lr,\n",
    "          'DecistionTree':dt,\n",
    "          'RandomForest':rf,\n",
    "          'GradientBoostingMachines':gbt}\n",
    "\n",
    "modelPerf = {k:model_acc(v) for k,v in models.items()}\n",
    "print(modelPerf)\n"
   ]
  },
  {
   "cell_type": "markdown",
   "metadata": {},
   "source": [
    "##### Tuning"
   ]
  },
  {
   "cell_type": "code",
   "execution_count": 348,
   "metadata": {
    "collapsed": false
   },
   "outputs": [
    {
     "name": "stdout",
     "output_type": "stream",
     "text": [
      "AUC ROC of Decision Tree model is(for maxDepth= 0): 0.5\n",
      "AUC ROC of Decision Tree model is(for maxDepth= 1): 0.7774094849566546\n",
      "AUC ROC of Decision Tree model is(for maxDepth= 2): 0.5807623661397247\n",
      "AUC ROC of Decision Tree model is(for maxDepth= 3): 0.808834778174401\n",
      "AUC ROC of Decision Tree model is(for maxDepth= 4): 0.7523584905660379\n",
      "AUC ROC of Decision Tree model is(for maxDepth= 5): 0.6354538500764917\n",
      "AUC ROC of Decision Tree model is(for maxDepth= 6): 0.6664966853646099\n",
      "AUC ROC of Decision Tree model is(for maxDepth= 7): 0.6259880163182051\n",
      "AUC ROC of Decision Tree model is(for maxDepth= 8): 0.6670066292707801\n",
      "AUC ROC of Decision Tree model is(for maxDepth= 9): 0.7029258031616522\n"
     ]
    }
   ],
   "source": [
    "for i in range(10):\n",
    "    dt = DecisionTreeClassifier(maxDepth = i, labelCol ='index').fit(train)\n",
    "    print('AUC ROC of Decision Tree model is' + '(for maxDepth= ' + str(i) + '): ' + str(testModel(dt)))"
   ]
  },
  {
   "cell_type": "code",
   "execution_count": 349,
   "metadata": {
    "collapsed": false
   },
   "outputs": [
    {
     "name": "stdout",
     "output_type": "stream",
     "text": [
      "AUC ROC of Random Forest model is(for numTrees= 5): 0.8874298827129015\n",
      "AUC ROC of Random Forest model is(for numTrees= 6): 0.8754143294237633\n",
      "AUC ROC of Random Forest model is(for numTrees= 7): 0.8881310555838857\n",
      "AUC ROC of Random Forest model is(for numTrees= 8): 0.8709523202447732\n",
      "AUC ROC of Random Forest model is(for numTrees= 9): 0.8784421213666498\n",
      "AUC ROC of Random Forest model is(for numTrees= 10): 0.8784102498725137\n",
      "AUC ROC of Random Forest model is(for numTrees= 11): 0.8829997450280471\n",
      "AUC ROC of Random Forest model is(for numTrees= 12): 0.8853263640999494\n",
      "AUC ROC of Random Forest model is(for numTrees= 13): 0.8771353901070882\n",
      "AUC ROC of Random Forest model is(for numTrees= 14): 0.8873980112187658\n",
      "AUC ROC of Random Forest model is(for numTrees= 15): 0.8902027027027025\n",
      "AUC ROC of Random Forest model is(for numTrees= 16): 0.8940910249872518\n",
      "AUC ROC of Random Forest model is(for numTrees= 17): 0.8875892401835795\n",
      "AUC ROC of Random Forest model is(for numTrees= 18): 0.8818842427332991\n",
      "AUC ROC of Random Forest model is(for numTrees= 19): 0.8898202447730751\n",
      "AUC ROC of Random Forest model is(for numTrees= 20): 0.8893103008669051\n",
      "AUC ROC of Random Forest model is(for numTrees= 21): 0.8962582865884755\n",
      "AUC ROC of Random Forest model is(for numTrees= 22): 0.881374298827129\n",
      "AUC ROC of Random Forest model is(for numTrees= 23): 0.8891190719020912\n",
      "AUC ROC of Random Forest model is(for numTrees= 24): 0.8879079551249363\n",
      "AUC ROC of Random Forest model is(for numTrees= 25): 0.8896608873023965\n",
      "AUC ROC of Random Forest model is(for numTrees= 26): 0.8812149413564511\n",
      "AUC ROC of Random Forest model is(for numTrees= 27): 0.8845933197348294\n",
      "AUC ROC of Random Forest model is(for numTrees= 28): 0.8900114737378887\n",
      "AUC ROC of Random Forest model is(for numTrees= 29): 0.8881629270780214\n",
      "AUC ROC of Random Forest model is(for numTrees= 30): 0.8957483426823053\n",
      "AUC ROC of Random Forest model is(for numTrees= 31): 0.8956208567057626\n",
      "AUC ROC of Random Forest model is(for numTrees= 32): 0.8806093829678736\n",
      "AUC ROC of Random Forest model is(for numTrees= 33): 0.8853263640999491\n",
      "AUC ROC of Random Forest model is(for numTrees= 34): 0.8871749107598169\n",
      "AUC ROC of Random Forest model is(for numTrees= 35): 0.8821710861805206\n",
      "AUC ROC of Random Forest model is(for numTrees= 36): 0.8861550229474763\n",
      "AUC ROC of Random Forest model is(for numTrees= 37): 0.8916687914329429\n",
      "AUC ROC of Random Forest model is(for numTrees= 38): 0.8935810810810811\n",
      "AUC ROC of Random Forest model is(for numTrees= 39): 0.8845933197348298\n",
      "AUC ROC of Random Forest model is(for numTrees= 40): 0.8917325344212137\n",
      "AUC ROC of Random Forest model is(for numTrees= 41): 0.8931667516573181\n",
      "AUC ROC of Random Forest model is(for numTrees= 42): 0.89278429372769\n",
      "AUC ROC of Random Forest model is(for numTrees= 43): 0.8874298827129017\n",
      "AUC ROC of Random Forest model is(for numTrees= 44): 0.8960670576236616\n",
      "AUC ROC of Random Forest model is(for numTrees= 45): 0.889852116267211\n",
      "AUC ROC of Random Forest model is(for numTrees= 46): 0.8894059153493116\n",
      "AUC ROC of Random Forest model is(for numTrees= 47): 0.8919556348801634\n",
      "AUC ROC of Random Forest model is(for numTrees= 48): 0.887206782253952\n",
      "AUC ROC of Random Forest model is(for numTrees= 49): 0.8877804691483938\n",
      "AUC ROC of Random Forest model is(for numTrees= 50): 0.8872705252422235\n",
      "AUC ROC of Random Forest model is(for numTrees= 51): 0.8854538500764918\n",
      "AUC ROC of Random Forest model is(for numTrees= 52): 0.8902983171851102\n",
      "AUC ROC of Random Forest model is(for numTrees= 53): 0.8851351351351352\n",
      "AUC ROC of Random Forest model is(for numTrees= 54): 0.8863781234064261\n",
      "AUC ROC of Random Forest model is(for numTrees= 55): 0.8911269760326368\n",
      "AUC ROC of Random Forest model is(for numTrees= 56): 0.8912225905150439\n",
      "AUC ROC of Random Forest model is(for numTrees= 57): 0.890362060173381\n",
      "AUC ROC of Random Forest model is(for numTrees= 58): 0.8917325344212141\n",
      "AUC ROC of Random Forest model is(for numTrees= 59): 0.8848164201937785\n",
      "AUC ROC of Random Forest model is(for numTrees= 60): 0.8919556348801636\n",
      "AUC ROC of Random Forest model is(for numTrees= 61): 0.8892465578786335\n",
      "AUC ROC of Random Forest model is(for numTrees= 62): 0.8917006629270786\n",
      "AUC ROC of Random Forest model is(for numTrees= 63): 0.8925930647628767\n",
      "AUC ROC of Random Forest model is(for numTrees= 64): 0.8881947985721573\n",
      "AUC ROC of Random Forest model is(for numTrees= 65): 0.8880673125956144\n",
      "AUC ROC of Random Forest model is(for numTrees= 66): 0.8901389597144319\n",
      "AUC ROC of Random Forest model is(for numTrees= 67): 0.8866330953595107\n",
      "AUC ROC of Random Forest model is(for numTrees= 68): 0.8922106068332487\n",
      "AUC ROC of Random Forest model is(for numTrees= 69): 0.8854857215706272\n",
      "AUC ROC of Random Forest model is(for numTrees= 70): 0.8868561958184606\n",
      "AUC ROC of Random Forest model is(for numTrees= 71): 0.8867924528301891\n",
      "AUC ROC of Random Forest model is(for numTrees= 72): 0.8853582355940853\n",
      "AUC ROC of Random Forest model is(for numTrees= 73): 0.8880035696073434\n",
      "AUC ROC of Random Forest model is(for numTrees= 74): 0.8952702702702706\n",
      "AUC ROC of Random Forest model is(for numTrees= 75): 0.8895334013258547\n",
      "AUC ROC of Random Forest model is(for numTrees= 76): 0.8887047424783279\n",
      "AUC ROC of Random Forest model is(for numTrees= 77): 0.8920831208567062\n",
      "AUC ROC of Random Forest model is(for numTrees= 78): 0.8930073941866399\n",
      "AUC ROC of Random Forest model is(for numTrees= 79): 0.88809918408975\n",
      "AUC ROC of Random Forest model is(for numTrees= 80): 0.8876211116777154\n",
      "AUC ROC of Random Forest model is(for numTrees= 81): 0.8865056093829685\n",
      "AUC ROC of Random Forest model is(for numTrees= 82): 0.8916687914329423\n",
      "AUC ROC of Random Forest model is(for numTrees= 83): 0.8868243243243248\n",
      "AUC ROC of Random Forest model is(for numTrees= 84): 0.8934854665986747\n",
      "AUC ROC of Random Forest model is(for numTrees= 85): 0.8856132075471698\n",
      "AUC ROC of Random Forest model is(for numTrees= 86): 0.8897246302906681\n",
      "AUC ROC of Random Forest model is(for numTrees= 87): 0.8899158592554823\n",
      "AUC ROC of Random Forest model is(for numTrees= 88): 0.8896290158082615\n",
      "AUC ROC of Random Forest model is(for numTrees= 89): 0.8924655787863339\n",
      "AUC ROC of Random Forest model is(for numTrees= 90): 0.8890234574196845\n",
      "AUC ROC of Random Forest model is(for numTrees= 91): 0.8909994900560937\n",
      "AUC ROC of Random Forest model is(for numTrees= 92): 0.8881947985721576\n",
      "AUC ROC of Random Forest model is(for numTrees= 93): 0.8892784293727694\n",
      "AUC ROC of Random Forest model is(for numTrees= 94): 0.8896290158082613\n",
      "AUC ROC of Random Forest model is(for numTrees= 95): 0.8903620601733815\n",
      "AUC ROC of Random Forest model is(for numTrees= 96): 0.8902983171851099\n",
      "AUC ROC of Random Forest model is(for numTrees= 97): 0.8877804691483936\n",
      "AUC ROC of Random Forest model is(for numTrees= 98): 0.8856769505354412\n",
      "AUC ROC of Random Forest model is(for numTrees= 99): 0.8895971443141258\n",
      "AUC ROC of Random Forest model is(for numTrees= 100): 0.8888003569607347\n",
      "AUC ROC of Random Forest model is(for numTrees= 101): 0.8913500764915862\n",
      "AUC ROC of Random Forest model is(for numTrees= 102): 0.8885772565017851\n",
      "AUC ROC of Random Forest model is(for numTrees= 103): 0.8936766955634883\n",
      "AUC ROC of Random Forest model is(for numTrees= 104): 0.8879398266190719\n",
      "AUC ROC of Random Forest model is(for numTrees= 105): 0.8850395206527285\n",
      "AUC ROC of Random Forest model is(for numTrees= 106): 0.8931348801631825\n",
      "AUC ROC of Random Forest model is(for numTrees= 107): 0.887429882712902\n",
      "AUC ROC of Random Forest model is(for numTrees= 108): 0.885007649158593\n",
      "AUC ROC of Random Forest model is(for numTrees= 109): 0.8856450790413052\n",
      "AUC ROC of Random Forest model is(for numTrees= 110): 0.8902983171851101\n",
      "AUC ROC of Random Forest model is(for numTrees= 111): 0.888577256501785\n",
      "AUC ROC of Random Forest model is(for numTrees= 112): 0.891636919938807\n",
      "AUC ROC of Random Forest model is(for numTrees= 113): 0.88634625191229\n",
      "AUC ROC of Random Forest model is(for numTrees= 114): 0.8887684854665989\n",
      "AUC ROC of Random Forest model is(for numTrees= 115): 0.8951427842937283\n",
      "AUC ROC of Random Forest model is(for numTrees= 116): 0.8881947985721577\n",
      "AUC ROC of Random Forest model is(for numTrees= 117): 0.8908401325854161\n",
      "AUC ROC of Random Forest model is(for numTrees= 118): 0.8864737378888322\n",
      "AUC ROC of Random Forest model is(for numTrees= 119): 0.8902983171851098\n",
      "AUC ROC of Random Forest model is(for numTrees= 120): 0.8886091279959203\n",
      "AUC ROC of Random Forest model is(for numTrees= 121): 0.8901070882202962\n",
      "AUC ROC of Random Forest model is(for numTrees= 122): 0.891095104538501\n",
      "AUC ROC of Random Forest model is(for numTrees= 123): 0.891126976032637\n",
      "AUC ROC of Random Forest model is(for numTrees= 124): 0.8944097399286082\n",
      "AUC ROC of Random Forest model is(for numTrees= 125): 0.884178990311066\n",
      "AUC ROC of Random Forest model is(for numTrees= 126): 0.8893421723610405\n",
      "AUC ROC of Random Forest model is(for numTrees= 127): 0.8856132075471701\n",
      "AUC ROC of Random Forest model is(for numTrees= 128): 0.8890872004079553\n",
      "AUC ROC of Random Forest model is(for numTrees= 129): 0.8898202447730751\n",
      "AUC ROC of Random Forest model is(for numTrees= 130): 0.8872386537480881\n",
      "AUC ROC of Random Forest model is(for numTrees= 131): 0.8887047424783279\n",
      "AUC ROC of Random Forest model is(for numTrees= 132): 0.892019377868435\n",
      "AUC ROC of Random Forest model is(for numTrees= 133): 0.8915094339622646\n",
      "AUC ROC of Random Forest model is(for numTrees= 134): 0.8866330953595103\n",
      "AUC ROC of Random Forest model is(for numTrees= 135): 0.8871111677715452\n",
      "AUC ROC of Random Forest model is(for numTrees= 136): 0.8890872004079551\n",
      "AUC ROC of Random Forest model is(for numTrees= 137): 0.8896927587965328\n",
      "AUC ROC of Random Forest model is(for numTrees= 138): 0.8890553289138197\n",
      "AUC ROC of Random Forest model is(for numTrees= 139): 0.8889278429372773\n",
      "AUC ROC of Random Forest model is(for numTrees= 140): 0.8881629270780215\n",
      "AUC ROC of Random Forest model is(for numTrees= 141): 0.8850713921468639\n",
      "AUC ROC of Random Forest model is(for numTrees= 142): 0.8879716981132078\n",
      "AUC ROC of Random Forest model is(for numTrees= 143): 0.8874298827129018\n",
      "AUC ROC of Random Forest model is(for numTrees= 144): 0.8881629270780217\n",
      "AUC ROC of Random Forest model is(for numTrees= 145): 0.8849757776644569\n",
      "AUC ROC of Random Forest model is(for numTrees= 146): 0.8898839877613463\n",
      "AUC ROC of Random Forest model is(for numTrees= 147): 0.8882585415604286\n",
      "AUC ROC of Random Forest model is(for numTrees= 148): 0.8869199388067316\n",
      "AUC ROC of Random Forest model is(for numTrees= 149): 0.8880991840897504\n",
      "AUC ROC of Random Forest model is(for numTrees= 150): 0.8870474247832738\n",
      "AUC ROC of Random Forest model is(for numTrees= 151): 0.8895971443141261\n",
      "AUC ROC of Random Forest model is(for numTrees= 152): 0.8904258031616527\n",
      "AUC ROC of Random Forest model is(for numTrees= 153): 0.88685619581846\n",
      "AUC ROC of Random Forest model is(for numTrees= 154): 0.8888003569607341\n",
      "AUC ROC of Random Forest model is(for numTrees= 155): 0.8868561958184604\n",
      "AUC ROC of Random Forest model is(for numTrees= 156): 0.8902345741968389\n",
      "AUC ROC of Random Forest model is(for numTrees= 157): 0.8881629270780216\n",
      "AUC ROC of Random Forest model is(for numTrees= 158): 0.8919556348801636\n",
      "AUC ROC of Random Forest model is(for numTrees= 159): 0.8870474247832746\n",
      "AUC ROC of Random Forest model is(for numTrees= 160): 0.8899158592554821\n",
      "AUC ROC of Random Forest model is(for numTrees= 161): 0.8867287098419177\n",
      "AUC ROC of Random Forest model is(for numTrees= 162): 0.8893421723610404\n",
      "AUC ROC of Random Forest model is(for numTrees= 163): 0.8882904130545646\n",
      "AUC ROC of Random Forest model is(for numTrees= 164): 0.8884497705252425\n",
      "AUC ROC of Random Forest model is(for numTrees= 165): 0.8897246302906681\n",
      "AUC ROC of Random Forest model is(for numTrees= 166): 0.8870474247832736\n",
      "AUC ROC of Random Forest model is(for numTrees= 167): 0.8873661397246303\n",
      "AUC ROC of Random Forest model is(for numTrees= 168): 0.8920193778684347\n",
      "AUC ROC of Random Forest model is(for numTrees= 169): 0.8899158592554822\n",
      "AUC ROC of Random Forest model is(for numTrees= 170): 0.8918281489036208\n",
      "AUC ROC of Random Forest model is(for numTrees= 171): 0.8921149923508419\n",
      "AUC ROC of Random Forest model is(for numTrees= 172): 0.8892784293727695\n",
      "AUC ROC of Random Forest model is(for numTrees= 173): 0.8873023967363596\n",
      "AUC ROC of Random Forest model is(for numTrees= 174): 0.8906170321264663\n",
      "AUC ROC of Random Forest model is(for numTrees= 175): 0.8891509433962266\n",
      "AUC ROC of Random Forest model is(for numTrees= 176): 0.8917006629270778\n",
      "AUC ROC of Random Forest model is(for numTrees= 177): 0.8878123406425296\n",
      "AUC ROC of Random Forest model is(for numTrees= 178): 0.8885135135135138\n",
      "AUC ROC of Random Forest model is(for numTrees= 179): 0.8887047424783274\n",
      "AUC ROC of Random Forest model is(for numTrees= 180): 0.8878123406425295\n",
      "AUC ROC of Random Forest model is(for numTrees= 181): 0.8886091279959206\n",
      "AUC ROC of Random Forest model is(for numTrees= 182): 0.8883860275369714\n",
      "AUC ROC of Random Forest model is(for numTrees= 183): 0.8908401325854161\n",
      "AUC ROC of Random Forest model is(for numTrees= 184): 0.8908720040795521\n",
      "AUC ROC of Random Forest model is(for numTrees= 185): 0.8889597144314132\n",
      "AUC ROC of Random Forest model is(for numTrees= 186): 0.8905532891381953\n",
      "AUC ROC of Random Forest model is(for numTrees= 187): 0.8907445181030087\n",
      "AUC ROC of Random Forest model is(for numTrees= 188): 0.8899796022437534\n",
      "AUC ROC of Random Forest model is(for numTrees= 189): 0.8920193778684347\n",
      "AUC ROC of Random Forest model is(for numTrees= 190): 0.8887047424783278\n",
      "AUC ROC of Random Forest model is(for numTrees= 191): 0.8891190719020909\n",
      "AUC ROC of Random Forest model is(for numTrees= 192): 0.8897883732789393\n",
      "AUC ROC of Random Forest model is(for numTrees= 193): 0.891955634880163\n",
      "AUC ROC of Random Forest model is(for numTrees= 194): 0.8896927587965323\n",
      "AUC ROC of Random Forest model is(for numTrees= 195): 0.8913500764915863\n",
      "AUC ROC of Random Forest model is(for numTrees= 196): 0.8890234574196844\n",
      "AUC ROC of Random Forest model is(for numTrees= 197): 0.8903620601733813\n",
      "AUC ROC of Random Forest model is(for numTrees= 198): 0.8887047424783274\n",
      "AUC ROC of Random Forest model is(for numTrees= 199): 0.8857088220295769\n"
     ]
    }
   ],
   "source": [
    "for i in range(5, 200):\n",
    "    rf = RandomForestClassifier(numTrees = i, labelCol = 'index').fit(train)\n",
    "    print('AUC ROC of Random Forest model is' + '(for numTrees= ' + str(i) + '): ' + str(testModel(rf)))"
   ]
  },
  {
   "cell_type": "code",
   "execution_count": null,
   "metadata": {
    "collapsed": true
   },
   "outputs": [],
   "source": [
    "import csv\n",
    "#export = csv.writer(output,quoting=csv.QUOTE_ALL)\n",
    "#output.toDF()\n",
    "output.toPandas().to_csv('mycsv.csv')"
   ]
  }
 ],
 "metadata": {
  "anaconda-cloud": {},
  "kernelspec": {
   "display_name": "Python [default]",
   "language": "python",
   "name": "python3"
  },
  "language_info": {
   "codemirror_mode": {
    "name": "ipython",
    "version": 3
   },
   "file_extension": ".py",
   "mimetype": "text/x-python",
   "name": "python",
   "nbconvert_exporter": "python",
   "pygments_lexer": "ipython3",
   "version": "3.5.2"
  }
 },
 "nbformat": 4,
 "nbformat_minor": 1
}
